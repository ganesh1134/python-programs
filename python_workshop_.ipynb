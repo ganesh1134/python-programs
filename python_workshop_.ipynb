{
  "nbformat": 4,
  "nbformat_minor": 0,
  "metadata": {
    "colab": {
      "provenance": []
    },
    "kernelspec": {
      "name": "python3",
      "display_name": "Python 3"
    },
    "language_info": {
      "name": "python"
    }
  },
  "cells": [
    {
      "cell_type": "code",
      "execution_count": null,
      "metadata": {
        "id": "FK5vJX5BTMNX"
      },
      "outputs": [],
      "source": []
    },
    {
      "cell_type": "markdown",
      "source": [
        "simple calculator"
      ],
      "metadata": {
        "id": "sixPka6OTTK3"
      }
    },
    {
      "cell_type": "code",
      "source": [
        "def add(x,y):\n",
        "  return x+y\n",
        "\n",
        "def subtract(x,y):\n",
        "  return x-y\n",
        "def multiply(x,y):\n",
        "  return x*y\n",
        "def divide(x,y):\n",
        "  if y !=0:\n",
        "    return x/y\n",
        "  else:\n",
        "    return \"error: number cannot divided by zero\"\n",
        "\n",
        "def calculator():\n",
        "  print(\"simple calculator\")\n",
        "  print(\"choose operation:\")\n",
        "  print(\"1.add\")\n",
        "  print(\"2.subtract\")\n",
        "  print(\"3.multiply\")\n",
        "  print(\"4.divide\")\n",
        "\n",
        "  while True:\n",
        "    choice=input(\"enter choice (1/2/3/4):\")\n",
        "    if choice in ['1','2','3','4']:\n",
        "      num1=float(input(\"enter first number:\"))\n",
        "      num2=float(input(\"enter second number:\"))\n",
        "\n",
        "      if choice=='1':\n",
        "        print(f\"the result is:{add(num1,num2)}\")\n",
        "      elif choice=='2':\n",
        "        print(f\"the result is:{subtract(num1,num2)}\")\n",
        "      elif choice=='3':\n",
        "        print(f\"the result is:{multiply(num1,num2)}\")\n",
        "      elif choice=='4':\n",
        "        print(f\"the result is:{divide(num1,num2)}\")\n",
        "\n",
        "      next_calculation=input(\"do you want to perform another calculation?(yes/no):\")\n",
        "      if next_calculation.lower() !='yes':\n",
        "         break\n",
        "      else:\n",
        "        print(\"invalid input\")\n",
        "\n",
        "calculator()\n",
        ""
      ],
      "metadata": {
        "colab": {
          "base_uri": "https://localhost:8080/"
        },
        "id": "vscvD1-nTWOk",
        "outputId": "ac081636-b105-428a-9a26-071206750686"
      },
      "execution_count": 36,
      "outputs": [
        {
          "name": "stdout",
          "output_type": "stream",
          "text": [
            "simple calculator\n",
            "choose operation:\n",
            "1.add\n",
            "2.subtract\n",
            "3.multiply\n",
            "4.divide\n",
            "enter choice (1/2/3/4):4\n",
            "enter first number:1\n",
            "enter second number:6\n",
            "the result is:0.16666666666666666\n",
            "do you want to perform another calculation?(yes/no):no\n"
          ]
        }
      ]
    },
    {
      "cell_type": "code",
      "source": [],
      "metadata": {
        "id": "P21EKCvTaJa5"
      },
      "execution_count": 27,
      "outputs": []
    }
  ]
}